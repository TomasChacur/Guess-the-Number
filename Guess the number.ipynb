{
 "cells": [
  {
   "cell_type": "code",
   "execution_count": 1,
   "metadata": {},
   "outputs": [],
   "source": [
    "import random"
   ]
  },
  {
   "cell_type": "code",
   "execution_count": 10,
   "metadata": {},
   "outputs": [],
   "source": [
    "    def guess(x):\n",
    "        random_number = random.randint(1, x)\n",
    "        guess = 0\n",
    "        while guess != random_number:\n",
    "            guess = int(input(f\"Guess a number between 1 and {x}: \"))\n",
    "            if guess < random_number:\n",
    "                print(\"Sorry, guess again. Too low.\")\n",
    "            elif guess > random_number:\n",
    "                print(\"Sorry, guess again. Too high\")\n",
    "        print(f\"Yay, congrats. you have guessed the number {random_number} correctly!!!\")\n",
    "\n",
    "    def computer_guess(x):\n",
    "        low = 1\n",
    "        high = x\n",
    "        feedback = \"\"\n",
    "        while feedback != \"c\":\n",
    "            if low != high:\n",
    "                guess = random.randint(low, high)\n",
    "            else:\n",
    "                guess = low \n",
    "            feedback = input(f\"Is {guess} too high (H), too low (L), or correctly (C)\")\n",
    "            if feedback == \"h\":\n",
    "                high = guess - 1\n",
    "            elif feedback == \"l\":\n",
    "                low = guess + 1\n",
    "        print(f\"Yay! The computer guessed your number, {guess}, correctly!\")\n"
   ]
  },
  {
   "cell_type": "code",
   "execution_count": null,
   "metadata": {},
   "outputs": [],
   "source": []
  },
  {
   "cell_type": "code",
   "execution_count": null,
   "metadata": {},
   "outputs": [],
   "source": []
  },
  {
   "cell_type": "code",
   "execution_count": null,
   "metadata": {},
   "outputs": [],
   "source": []
  }
 ],
 "metadata": {
  "kernelspec": {
   "display_name": "Python 3",
   "language": "python",
   "name": "python3"
  },
  "language_info": {
   "codemirror_mode": {
    "name": "ipython",
    "version": 3
   },
   "file_extension": ".py",
   "mimetype": "text/x-python",
   "name": "python",
   "nbconvert_exporter": "python",
   "pygments_lexer": "ipython3",
   "version": "3.7.6"
  }
 },
 "nbformat": 4,
 "nbformat_minor": 4
}
